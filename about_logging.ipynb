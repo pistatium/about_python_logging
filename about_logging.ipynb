{
 "cells": [
  {
   "cell_type": "markdown",
   "metadata": {},
   "source": [
    "# Pythonのロギングの仕組みを理解する\n",
    "\n",
    "勉強会の資料用Notebookです。\n",
    "\n",
    "\n",
    "## Loggerを使う"
   ]
  },
  {
   "cell_type": "code",
   "execution_count": null,
   "metadata": {},
   "outputs": [],
   "source": [
    "from logging import getLogger\n",
    "\n",
    "# Setup logger\n",
    "logger = getLogger(__name__)"
   ]
  },
  {
   "cell_type": "markdown",
   "metadata": {},
   "source": [
    "python の Logger はこうやって初期化するのが一般的です。\n",
    "あとで解説するので `__name__` とかはおまじないだと思ってください。  \n",
    "\n",
    "早速このloggerを使ってみましょう。"
   ]
  },
  {
   "cell_type": "code",
   "execution_count": null,
   "metadata": {},
   "outputs": [],
   "source": [
    "from logging import getLogger\n",
    "\n",
    "logger = getLogger(__name__)\n",
    "\n",
    "def main():\n",
    "    logger.debug('This is a Debug message')\n",
    "    logger.info('This is a Info message')\n",
    "    logger.warning('This is a Warning message')\n",
    "    logger.error('This is a Error message')\n",
    "    logger.critical('This is a Critical message')\n",
    "    \n",
    "if __name__ == '__main__':\n",
    "    main()"
   ]
  },
  {
   "cell_type": "markdown",
   "metadata": {},
   "source": [
    "他の言語にもあるように Python でも `debug` `info` `warning` `error` `critical` の6種類のログレベルが使用できます。\n",
    "特に難しいことはないですね。\n",
    "\n",
    "実行結果も見てみましょう。\n",
    "\n",
    ">This is a Warning message  \n",
    ">This is a Error message  \n",
    ">This is a Critical message\n",
    "\n",
    "あれ`debug`,` info` はどこへ…。"
   ]
  },
  {
   "cell_type": "code",
   "execution_count": null,
   "metadata": {},
   "outputs": [],
   "source": [
    "from logging import getLogger, DEBUG\n",
    "\n",
    "logger = getLogger(__name__)\n",
    "\n",
    "# これかな?\n",
    "logger.setLevel(DEBUG)\n",
    "\n",
    "\n",
    "def main():\n",
    "    logger.debug('This is a Debug message')\n",
    "    logger.info('This is a Info message')\n",
    "    logger.warning('This is a Warning message')\n",
    "    logger.error('This is a Error message')\n",
    "    logger.critical('This is a Critical message')\n",
    "    \n",
    "if __name__ == '__main__':\n",
    "    main()"
   ]
  },
  {
   "cell_type": "markdown",
   "metadata": {},
   "source": [
    "`logger` には `setLevel` という、どのレベル以上のものを表示するかという設定があります。\n",
    "これで `info` や `debug` が無視されていたに違いないので、早速 `DEBUG` 以上をセットしてみましょう。\n",
    "\n",
    ">This is a Warning message  \n",
    ">This is a Error message  \n",
    ">This is a Critical message\n",
    "\n",
    "ぐぬぬ…"
   ]
  },
  {
   "cell_type": "code",
   "execution_count": null,
   "metadata": {},
   "outputs": [],
   "source": [
    "import sys\n",
    "from logging import getLogger, DEBUG, StreamHandler\n",
    "\n",
    "logger = getLogger(__name__)\n",
    "logger.setLevel(DEBUG)\n",
    "\n",
    "#  これも？\n",
    "handler = StreamHandler(sys.stderr)\n",
    "handler.setLevel(DEBUG)\n",
    "logger.addHandler(handler)\n",
    "\n",
    "\n",
    "def main():\n",
    "    logger.debug('This is a Debug message')\n",
    "    logger.info('This is a Info message')\n",
    "    logger.warning('This is a Warning message')\n",
    "    logger.error('This is a Error message')\n",
    "    logger.critical('This is a Critical message')\n",
    "    \n",
    "if __name__ == '__main__':\n",
    "    main()"
   ]
  },
  {
   "cell_type": "markdown",
   "metadata": {},
   "source": [
    "Python の Logger には Handler という概念があります。\n",
    "Handler というのは書き込まれたログをどう扱うかを決めるためのものです。\n",
    "デフォルトだと標準エラー出力にログが表示されるだけですが、これをカスタマイズすることで、ファイルに書き込むようにしたり、出力のフォーマットや要素を好きなように変更することが出来ます。\n",
    "この Handler も ログレベルのしきい値を持っているので、こっちのレベルも変更してみましょう。\n",
    "\n",
    ">This is a Debug message  \n",
    ">This is a Info message  \n",
    ">This is a Warning message  \n",
    ">This is a Error message  \n",
    ">This is a Critical message  \n",
    "\n",
    "👏\n",
    "無事全部のログが出せましたね。"
   ]
  },
  {
   "cell_type": "markdown",
   "metadata": {},
   "source": [
    "## Logger について"
   ]
  },
  {
   "cell_type": "code",
   "execution_count": null,
   "metadata": {},
   "outputs": [],
   "source": [
    "logger = getLogger(__name__)"
   ]
  },
  {
   "cell_type": "markdown",
   "metadata": {},
   "source": [
    "とは一体何なのか\n",
    "\n",
    "\n",
    "まず引数の中身から。\n",
    "\n",
    "`__name__`\n",
    "\n",
    "この Python 組み込みの変数には現在のモジュール名が入っています。\n",
    "\n",
    "```\n",
    "* hoge/\n",
    "     * __init__.py\n",
    "     * fuga.py\n",
    "     * piyo/\n",
    "          * __init__.py\n",
    "          * piyopiyo.py\n",
    "```\n",
    "\n",
    "みたいなパッケージ構成の場合、 \n",
    "\n",
    "* `fuga.py` での `__name__` は `hoge.fuga`\n",
    "* `piyo/piyopiyo.py` での `__name__` は `hoge.piyo.piyopiyo`\n",
    "\n",
    "のようになります。\n",
    "\n",
    "(但し `if __name__ == '__main__':` のイディオムからも分かるように、対象のファイルを直接実行した場合は、モジュール名ではなく `__main__` という固定値が入るようになっています。今回はややこしくなるので、モジュール名が常に入っているものとして進めさせてください。)\n",
    "\n",
    "つまり getLogger の1文は、 `logger = getLogger('hoge.fuga')`  のようにモジュール名を入れて呼び出している事と等価です。\n",
    "実はこの引数、文字列であればなんでもよかったりします。ロガーに名前をつけてるだけですね。\n",
    "\n",
    "### なぜ __name__ で呼び出すか \n",
    "では、なぜ慣例的に `logger = getLogger(__name__)` のように呼び出すかというと、2つのメリットがあるからです。\n",
    "\n",
    "1つ目はシンプルだからという点です。毎回この定型文を挿入してあげるだけですむので、ロガーのために複雑なことをする必要はありません。正しくファイルを分割していれば、それがそのまま適切なロガー名になります。\n",
    "\n",
    "2つ目の理由は、**ロガーが階層関係を持てる** という点です。ロガーの名前をドットで区切るとそれが階層になります。なので、`hoge.fuga` と `hoge.piyo.piyopiyo` の2つのロガーは共通の `hoge` というロガーを親に持っています。また名前無しで初期化したロガーはルートロガーと呼ばれ、全てのロガーの親となります。\n",
    "\n",
    "```\n",
    "* (ルート)\n",
    "    * hoge\n",
    "        * fuga\n",
    "        * piyo\n",
    "            * piyopiyo\n",
    "```\n",
    "\n",
    "上のパッケージ構成でそれぞれが `__name__` で初期化したロガーをもつ場合、こんな感じの階層が出来上がります。\n",
    "\n",
    "この階層関係、何が嬉しいのかというと Handler で扱う時に非常に便利になります。ルートロガーからは何も出力させないけど、`hoge` 以下からのログは全て標準出力に書き出したいみたいなことが階層関係を持つことで実現できます。"
   ]
  },
  {
   "cell_type": "markdown",
   "metadata": {},
   "source": [
    "## Handler について\n"
   ]
  },
  {
   "cell_type": "markdown",
   "metadata": {},
   "source": [
    "## Formatter について"
   ]
  },
  {
   "cell_type": "markdown",
   "metadata": {},
   "source": [
    "## スッキリ書く"
   ]
  }
 ],
 "metadata": {
  "kernelspec": {
   "display_name": "Python 3",
   "language": "python",
   "name": "python3"
  },
  "language_info": {
   "codemirror_mode": {
    "name": "ipython",
    "version": 3
   },
   "file_extension": ".py",
   "mimetype": "text/x-python",
   "name": "python",
   "nbconvert_exporter": "python",
   "pygments_lexer": "ipython3",
   "version": "3.6.3"
  }
 },
 "nbformat": 4,
 "nbformat_minor": 2
}
