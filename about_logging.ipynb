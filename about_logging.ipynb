{
 "cells": [
  {
   "cell_type": "markdown",
   "metadata": {},
   "source": [
    "# Pythonのロギングの仕組みを理解する\n",
    "\n",
    "勉強会の資料用Notebookです。\n",
    "\n",
    "\n",
    "## Loggerを使う"
   ]
  },
  {
   "cell_type": "code",
   "execution_count": null,
   "metadata": {},
   "outputs": [],
   "source": [
    "from logging import getLogger\n",
    "\n",
    "# Setup logger\n",
    "logger = getLogger(__name__)"
   ]
  },
  {
   "cell_type": "markdown",
   "metadata": {},
   "source": [
    "python の Logger はこうやって初期化するのが一般的です。\n",
    "あとで解説するので `__name__` とかはおまじないだと思ってください。  \n",
    "\n",
    "早速このloggerを使ってみましょう。"
   ]
  },
  {
   "cell_type": "code",
   "execution_count": null,
   "metadata": {},
   "outputs": [],
   "source": [
    "from logging import getLogger\n",
    "\n",
    "logger = getLogger(__name__)\n",
    "\n",
    "def main():\n",
    "    logger.debug('This is a Debug message')\n",
    "    logger.info('This is a Info message')\n",
    "    logger.warning('This is a Warning message')\n",
    "    logger.error('This is a Error message')\n",
    "    logger.critical('This is a Critical message')\n",
    "    \n",
    "if __name__ == '__main__':\n",
    "    main()"
   ]
  },
  {
   "cell_type": "markdown",
   "metadata": {},
   "source": [
    "他の言語にもあるように Python でも `debug` `info` `warning` `error` `critical` の6種類のログレベルが使用できます。\n",
    "特に難しいことはないですね。\n",
    "\n",
    "実行結果も見てみましょう。\n",
    "\n",
    ">This is a Warning message\n",
    ">This is a Error message\n",
    ">This is a Critical message\n",
    "\n",
    "あれ`debug`,` info` はどこへ…。"
   ]
  },
  {
   "cell_type": "code",
   "execution_count": null,
   "metadata": {},
   "outputs": [],
   "source": [
    "from logging import getLogger, DEBUG\n",
    "\n",
    "logger = getLogger(__name__)\n",
    "\n",
    "# これかな?\n",
    "logger.setLevel(DEBUG)\n",
    "\n",
    "\n",
    "def main():\n",
    "    logger.debug('This is a Debug message')\n",
    "    logger.info('This is a Info message')\n",
    "    logger.warning('This is a Warning message')\n",
    "    logger.error('This is a Error message')\n",
    "    logger.critical('This is a Critical message')\n",
    "    \n",
    "if __name__ == '__main__':\n",
    "    main()"
   ]
  },
  {
   "cell_type": "markdown",
   "metadata": {},
   "source": [
    "`logger` には `setLevel` という、どのレベル以上のものを表示するかという設定があります。\n",
    "これで `info` や `debug` が無視されていたに違いないので、早速 `DEBUG` 以上をセットしてみましょう。\n",
    "\n",
    ">This is a Warning message\n",
    ">This is a Error message\n",
    ">This is a Critical message\n",
    "\n",
    "ぐぬぬ…"
   ]
  },
  {
   "cell_type": "code",
   "execution_count": 2,
   "metadata": {},
   "outputs": [
    {
     "name": "stderr",
     "output_type": "stream",
     "text": [
      "This is a Debug message\n",
      "This is a Info message\n",
      "This is a Warning message\n",
      "This is a Error message\n",
      "This is a Critical message\n"
     ]
    }
   ],
   "source": [
    "import sys\n",
    "from logging import getLogger, DEBUG, StreamHandler\n",
    "\n",
    "logger = getLogger(__name__)\n",
    "logger.setLevel(DEBUG)\n",
    "\n",
    "#  これも？\n",
    "handler = StreamHandler(sys.stderr)\n",
    "handler.setLevel(DEBUG)\n",
    "logger.addHandler(handler)\n",
    "\n",
    "\n",
    "def main():\n",
    "    logger.debug('This is a Debug message')\n",
    "    logger.info('This is a Info message')\n",
    "    logger.warning('This is a Warning message')\n",
    "    logger.error('This is a Error message')\n",
    "    logger.critical('This is a Critical message')\n",
    "    \n",
    "if __name__ == '__main__':\n",
    "    main()"
   ]
  },
  {
   "cell_type": "markdown",
   "metadata": {},
   "source": [
    "Python の Logger には Handler という概念があります。\n",
    "Handler というのは書き込まれたログをどう扱うかを決めるためのものです。\n",
    "デフォルトだと標準エラー出力にログが表示されるだけですが、これをカスタマイズすることで、ファイルに書き込むようにしたり、出力のフォーマットや要素を好きなように変更することが出来ます。\n",
    "この Handler も ログレベルのしきい値を持っているので、こっちのレベルも変更してみましょう。\n",
    "\n",
    ">This is a Debug message\n",
    ">This is a Info message\n",
    ">This is a Warning message\n",
    ">This is a Error message\n",
    ">This is a Critical message\n",
    "\n",
    "👏\n",
    "無事全部のログが出せましたね。"
   ]
  },
  {
   "cell_type": "markdown",
   "metadata": {},
   "source": [
    "## Logger について"
   ]
  },
  {
   "cell_type": "markdown",
   "metadata": {},
   "source": [
    "## Handler について"
   ]
  },
  {
   "cell_type": "markdown",
   "metadata": {},
   "source": [
    "## Formatter について"
   ]
  },
  {
   "cell_type": "markdown",
   "metadata": {},
   "source": [
    "## スッキリ書く"
   ]
  }
 ],
 "metadata": {
  "kernelspec": {
   "display_name": "Python 3",
   "language": "python",
   "name": "python3"
  },
  "language_info": {
   "codemirror_mode": {
    "name": "ipython",
    "version": 3
   },
   "file_extension": ".py",
   "mimetype": "text/x-python",
   "name": "python",
   "nbconvert_exporter": "python",
   "pygments_lexer": "ipython3",
   "version": "3.6.3"
  }
 },
 "nbformat": 4,
 "nbformat_minor": 2
}
