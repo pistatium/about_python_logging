{
 "cells": [
  {
   "cell_type": "code",
   "execution_count": 1,
   "metadata": {},
   "outputs": [
    {
     "name": "stderr",
     "output_type": "stream",
     "text": [
      "warning\n",
      "error\n"
     ]
    }
   ],
   "source": [
    "from logging import getLogger\n",
    "\n",
    "# Setup logger\n",
    "logger = getLogger(__name__)\n",
    "\n",
    "\n",
    "def main():\n",
    "    # Use Logger\n",
    "    logger.debug('debug')\n",
    "    logger.info('info')\n",
    "    logger.warning('warning')\n",
    "    logger.error('error')\n",
    "    \n",
    "if __name__ == '__main__':\n",
    "    main()"
   ]
  },
  {
   "cell_type": "markdown",
   "metadata": {},
   "source": [
    "debug, info はどこへ…"
   ]
  },
  {
   "cell_type": "code",
   "execution_count": 8,
   "metadata": {},
   "outputs": [
    {
     "name": "stderr",
     "output_type": "stream",
     "text": [
      "warning\n",
      "error\n"
     ]
    }
   ],
   "source": [
    "from logging import getLogger, DEBUG\n",
    "\n",
    "logger = getLogger(__name__)\n",
    "\n",
    "# これ?\n",
    "logger.setLevel(DEBUG)\n",
    "\n",
    "\n",
    "def main():\n",
    "    logger.debug('debug')\n",
    "    logger.info('info')\n",
    "    logger.warning('warning')\n",
    "    logger.error('error')\n",
    "    \n",
    "if __name__ == '__main__':\n",
    "    main()"
   ]
  },
  {
   "cell_type": "markdown",
   "metadata": {},
   "source": [
    "ぐぬぬ…"
   ]
  },
  {
   "cell_type": "code",
   "execution_count": 9,
   "metadata": {},
   "outputs": [
    {
     "name": "stderr",
     "output_type": "stream",
     "text": [
      "debug\n",
      "info\n",
      "warning\n",
      "error\n"
     ]
    }
   ],
   "source": [
    "from logging import getLogger, DEBUG, StreamHandler\n",
    "\n",
    "logger = getLogger(__name__)\n",
    "logger.setLevel(DEBUG)\n",
    "\n",
    "#  こっちも\n",
    "handler = StreamHandler()\n",
    "handler.setLevel(DEBUG)\n",
    "logger.addHandler(handler)\n",
    "\n",
    "\n",
    "def main():\n",
    "    logger.debug('debug')\n",
    "    logger.info('info')\n",
    "    logger.warning('warning')\n",
    "    logger.error('error')\n",
    "    \n",
    "if __name__ == '__main__':\n",
    "    main()"
   ]
  },
  {
   "cell_type": "code",
   "execution_count": null,
   "metadata": {},
   "outputs": [],
   "source": [
    "👏"
   ]
  }
 ],
 "metadata": {
  "kernelspec": {
   "display_name": "Python 3",
   "language": "python",
   "name": "python3"
  },
  "language_info": {
   "codemirror_mode": {
    "name": "ipython",
    "version": 3
   },
   "file_extension": ".py",
   "mimetype": "text/x-python",
   "name": "python",
   "nbconvert_exporter": "python",
   "pygments_lexer": "ipython3",
   "version": "3.6.3"
  }
 },
 "nbformat": 4,
 "nbformat_minor": 2
}
